{
 "cells": [
  {
   "cell_type": "code",
   "execution_count": 1,
   "metadata": {},
   "outputs": [
    {
     "name": "stdout",
     "output_type": "stream",
     "text": [
      "Notebook initialized with ipy backend.\n"
     ]
    }
   ],
   "source": [
    "import datetime\n",
    "import numpy as np\n",
    "import matplotlib.dates as mdates\n",
    "import matplotlib.pyplot as plt\n",
    "from mayavi import mlab\n",
    "mlab.init_notebook()"
   ]
  },
  {
   "cell_type": "markdown",
   "metadata": {},
   "source": [
    "# Transitioning form MatLab to Python - Basic 3D Plotting\n",
    "3D plotting is possible using a number of different packages. One of the most common is VTK. However, plotting in VTK is not as intuitive as that available in Matplotlib. Mayavi is a VTK-like package that implements syntax similar to that in Matplotlib. Since mayavi uses [TVTK](https://docs.enthought.com/mayavi/tvtk/README.html#introduction), which is a traits enabled version VTK, many more complex plotting can be enabled along with the base functions.\n",
    "\n",
    "## Contents\n",
    "- [Figure Basics](#Figure-Basics)\n",
    "    - [Text and Labels](#Text-and-Labels)\n",
    "    - [Axes](#Axes)\n",
    "    - [Bars](#Bars)\n",
    "- [MatLab Examples](#MatLab-Examples)\n",
    "    - [Surface, Contour, and Mesh Plots](#Surface,-Contour,-and-Mesh-Plots)\n",
    "    - [Quiver Plots](#Quiver-Plots)\n",
    "    - [Slices in 3D Volumes](#Slices-in-3D-Volumes)\n",
    "- [Other Examples](#Other-Examples)"
   ]
  },
  {
   "cell_type": "markdown",
   "metadata": {},
   "source": [
    "## Figure Basics\n",
    "This section explores the basics of creating figures with mayavi. Documentation with greater detail can be found on the following pages:\n",
    "- [Figure Decoration](https://docs.enthought.com/mayavi/mayavi/auto/mlab_decorations.html)\n",
    "- [Plotting Functions](https://docs.enthought.com/mayavi/mayavi/auto/mlab_helper_functions.html#mayavi.mlab.volume_slice)\n",
    "- [Figure Handling Functions](https://docs.enthought.com/mayavi/mayavi/auto/mlab_figure.html)\n",
    "- [Other Functions](https://docs.enthought.com/mayavi/mayavi/auto/mlab_other_functions.html)\n",
    "\n",
    "### Text and Labels"
   ]
  },
  {
   "cell_type": "markdown",
   "metadata": {},
   "source": [
    "###Text and Labels\n",
    "Text and labels in Mayavi plots are similar to those for matplotlib plots. The main labels are `xlabel`, `ylabel`, `zlabel`, and `title`. These all include options for color and object. The object defines what plot the label is being applied to. By default, this is the last plot.\n"
   ]
  },
  {
   "cell_type": "code",
   "execution_count": 2,
   "metadata": {},
   "outputs": [
    {
     "data": {
      "application/vnd.jupyter.widget-view+json": {
       "model_id": "c91326c89785433fb55e117f66322f72",
       "version_major": 2,
       "version_minor": 0
      },
      "text/plain": [
       "Image(value=b'\\x89PNG\\r\\n\\x1a\\n\\x00\\x00\\x00\\rIHDR\\x00\\x00\\x02\\x8a\\x00\\x00\\x02\\x8a\\x08\\x02\\x00\\x00\\x005\\x16\\xed…"
      ]
     },
     "metadata": {},
     "output_type": "display_data"
    }
   ],
   "source": [
    "x, y, z, value = np.random.random((4, 40))\n",
    "\n",
    "mlab.figure(size=(650,650))\n",
    "mlab.points3d(x, y, z, value)\n",
    "f = mlab.axes()\n",
    "mlab.xlabel('X-Axes')\n",
    "mlab.ylabel('Y-Axes')\n",
    "mlab.zlabel('Z-Axes')\n",
    "mlab.title('Random Points', color=(0.1, 0.8, 0.6), height=.85, opacity=.95, size=.95)"
   ]
  },
  {
   "cell_type": "markdown",
   "metadata": {},
   "source": [
    "Text can be added to the plot using the text command."
   ]
  },
  {
   "cell_type": "code",
   "execution_count": 3,
   "metadata": {},
   "outputs": [
    {
     "data": {
      "application/vnd.jupyter.widget-view+json": {
       "model_id": "8e9f24b43a5f472f9044fb29f2a968ba",
       "version_major": 2,
       "version_minor": 0
      },
      "text/plain": [
       "Image(value=b'\\x89PNG\\r\\n\\x1a\\n\\x00\\x00\\x00\\rIHDR\\x00\\x00\\x02\\x8a\\x00\\x00\\x02\\x8a\\x08\\x02\\x00\\x00\\x005\\x16\\xed…"
      ]
     },
     "metadata": {},
     "output_type": "display_data"
    }
   ],
   "source": [
    "mlab.figure(size=(650,650))\n",
    "mlab.points3d(x, y, z, value)\n",
    "f = mlab.axes()\n",
    "mlab.xlabel('X-Axes')\n",
    "mlab.ylabel('Y-Axes')\n",
    "mlab.zlabel('Z-Axes')\n",
    "mlab.title('Random Points', color=(0.1, 0.8, 0.6),\n",
    "           height=.85, opacity=.95, size=.95)\n",
    "mlab.text(.5, .5, 'My location\\nin the plot: (0.5, 0.5, 0.5)',\n",
    "          z=0.5, color=(0.1, 0.5, 0.8))"
   ]
  },
  {
   "cell_type": "markdown",
   "metadata": {},
   "source": [
    "You can also set the background and foreground colors for the entire figure.\n"
   ]
  },
  {
   "cell_type": "code",
   "execution_count": 4,
   "metadata": {},
   "outputs": [
    {
     "data": {
      "application/vnd.jupyter.widget-view+json": {
       "model_id": "a2dd1068b4af43aca694e698a976e7bd",
       "version_major": 2,
       "version_minor": 0
      },
      "text/plain": [
       "Image(value=b'\\x89PNG\\r\\n\\x1a\\n\\x00\\x00\\x00\\rIHDR\\x00\\x00\\x02\\x8a\\x00\\x00\\x02\\x8a\\x08\\x02\\x00\\x00\\x005\\x16\\xed…"
      ]
     },
     "metadata": {},
     "output_type": "display_data"
    }
   ],
   "source": [
    "mlab.figure(bgcolor=(1, 1, 1), fgcolor=(0.1, 0.7, 0.4), size=(650,650))\n",
    "mlab.points3d(x, y, z, value)\n",
    "f = mlab.axes()\n",
    "mlab.xlabel('X-Axes')\n",
    "mlab.ylabel('Y-Axes')\n",
    "mlab.zlabel('Z-Axes')\n",
    "mlab.title('Random Points')"
   ]
  },
  {
   "cell_type": "markdown",
   "metadata": {},
   "source": [
    "### Axes\n",
    "Axes can be set using the `axes` command. This has a number of optional arguments that include:\n",
    "- color: The color of the lines and text.\n",
    "- extent: The minimum and maximum of each axis ([xmin, xmax, ymin, ymax, zmin, zmax]).\n",
    "- figure: The figure object that the axes should correspond to. This is helpful if multiple plots have been created in the same view.\n",
    "- line_width: Width of the lines. The default is two.\n",
    "- name: The name of the vtk that will be created.\n",
    "- nb_labels: The number of labels along each direction.\n",
    "- opacity: A value between 0 and 1.\n",
    "- ranges: The extents of the labels.\n",
    "- x_axis_visibility: A boolean which defines whether the x axis is visible.\n",
    "- y_axis_visibility: A boolean which defines whether the y axis is visible.\n",
    "- z_axis_visibility: A boolean which defines whether the z axis is visible.\n",
    "- zlabel: The label of the z axis."
   ]
  },
  {
   "cell_type": "code",
   "execution_count": 5,
   "metadata": {},
   "outputs": [
    {
     "data": {
      "application/vnd.jupyter.widget-view+json": {
       "model_id": "41ee7579a8f7447488d3a53cdac636b9",
       "version_major": 2,
       "version_minor": 0
      },
      "text/plain": [
       "Image(value=b'\\x89PNG\\r\\n\\x1a\\n\\x00\\x00\\x00\\rIHDR\\x00\\x00\\x02\\x8a\\x00\\x00\\x02\\x8a\\x08\\x02\\x00\\x00\\x005\\x16\\xed…"
      ]
     },
     "metadata": {},
     "output_type": "display_data"
    }
   ],
   "source": [
    "mlab.figure(bgcolor=(1, 1, 1), fgcolor=(0.1, 0.7, 0.4), size=(650,650))\n",
    "x, y, z = np.mgrid[-5:5:64j, -5:5:64j, -5:5:64j]\n",
    "values = x*x*0.5 + y*y + z*z*2.0\n",
    "mlab.contour3d(values)\n",
    "mlab.axes(line_width=3, nb_labels=5)"
   ]
  },
  {
   "cell_type": "markdown",
   "metadata": {},
   "source": [
    "### Bars\n",
    "A number of bar labels are available in mayavi including colorbars, scalarbars, and vectorbars. "
   ]
  },
  {
   "cell_type": "code",
   "execution_count": 6,
   "metadata": {},
   "outputs": [
    {
     "data": {
      "application/vnd.jupyter.widget-view+json": {
       "model_id": "7bdf291552fd48dab97ee182fec3e78b",
       "version_major": 2,
       "version_minor": 0
      },
      "text/plain": [
       "Image(value=b'\\x89PNG\\r\\n\\x1a\\n\\x00\\x00\\x00\\rIHDR\\x00\\x00\\x02\\x8a\\x00\\x00\\x02\\x8a\\x08\\x02\\x00\\x00\\x005\\x16\\xed…"
      ]
     },
     "metadata": {},
     "output_type": "display_data"
    }
   ],
   "source": [
    "mlab.figure(bgcolor=(1, 1, 1), fgcolor=(0,0,0), size=(650,650))\n",
    "x, y = np.mgrid[-10:10:100j, -10:10:100j]\n",
    "r = np.sqrt(x**2 + y**2)\n",
    "z = np.sin(r)/r\n",
    "mlab.surf(z, warp_scale='auto')\n",
    "mlab.colorbar(orientation='vertical', nb_labels=10, label_fmt='%.2f', title=\"Values\\n\")\n",
    "mlab.title('Colorbar')"
   ]
  },
  {
   "cell_type": "code",
   "execution_count": 7,
   "metadata": {},
   "outputs": [
    {
     "data": {
      "application/vnd.jupyter.widget-view+json": {
       "model_id": "86c3425237534400b0793db1035a17ba",
       "version_major": 2,
       "version_minor": 0
      },
      "text/plain": [
       "Image(value=b'\\x89PNG\\r\\n\\x1a\\n\\x00\\x00\\x00\\rIHDR\\x00\\x00\\x02\\x8a\\x00\\x00\\x02\\x8a\\x08\\x02\\x00\\x00\\x005\\x16\\xed…"
      ]
     },
     "metadata": {},
     "output_type": "display_data"
    }
   ],
   "source": [
    "mlab.figure(bgcolor=(1, 1, 1), fgcolor=(0,0,0), size=(650,650))\n",
    "x, y = np.mgrid[-10:10:100j, -10:10:100j]\n",
    "r = np.sqrt(x**2 + y**2)\n",
    "z = np.sin(r)/r\n",
    "mlab.surf(z, warp_scale='auto')\n",
    "mlab.scalarbar(orientation='horizontal', nb_labels=10, label_fmt='%.2f', title=\"Values\\n\")\n",
    "mlab.title('Scalarbar')"
   ]
  },
  {
   "cell_type": "markdown",
   "metadata": {},
   "source": [
    "### Surface, Contour, and Mesh Plots\n",
    "This takes advantage of numpy's meshgrid method `mgrid` to create a surface plot."
   ]
  },
  {
   "cell_type": "code",
   "execution_count": 8,
   "metadata": {},
   "outputs": [
    {
     "data": {
      "application/vnd.jupyter.widget-view+json": {
       "model_id": "b1da9be0b07c4c6c8b587b9e95a13fc4",
       "version_major": 2,
       "version_minor": 0
      },
      "text/plain": [
       "Image(value=b'\\x89PNG\\r\\n\\x1a\\n\\x00\\x00\\x00\\rIHDR\\x00\\x00\\x01\\x90\\x00\\x00\\x01^\\x08\\x02\\x00\\x00\\x00$?\\xde_\\x00\\…"
      ]
     },
     "metadata": {},
     "output_type": "display_data"
    }
   ],
   "source": [
    "X, Y = np.mgrid[-3.:3:0.2, -3.:3:0.2]\n",
    "Z1 = (6 / np.sqrt(2 * np.pi) * np. exp(-((X+1)**2 / 1) - ((Y+1)**2 / 1))) + \\\n",
    " (-6 / np.sqrt(2 * np.pi) * np. exp(-((X -1)**2 / 1) - ((Y-1)**2 / 1)))\n",
    "\n",
    "\n",
    "mlab.figure(bgcolor=(1,1,1), fgcolor=(0.,0.,0.))\n",
    "mlab.view(150, 115)\n",
    "f = mlab.surf(X, Y, Z1, opacity=0.98)\n",
    "mlab.title('Surface Plot')\n",
    "mlab.axes(nb_labels=6)\n",
    "mlab.colorbar(orientation='vertical')"
   ]
  },
  {
   "cell_type": "code",
   "execution_count": 9,
   "metadata": {},
   "outputs": [
    {
     "data": {
      "application/vnd.jupyter.widget-view+json": {
       "model_id": "d7edb45d878a4a969012e3950e184931",
       "version_major": 2,
       "version_minor": 0
      },
      "text/plain": [
       "Image(value=b'\\x89PNG\\r\\n\\x1a\\n\\x00\\x00\\x00\\rIHDR\\x00\\x00\\x01\\x90\\x00\\x00\\x01^\\x08\\x02\\x00\\x00\\x00$?\\xde_\\x00\\…"
      ]
     },
     "metadata": {},
     "output_type": "display_data"
    }
   ],
   "source": [
    "mlab.figure(bgcolor=(1,1,1), fgcolor=(0.,0.,0.))\n",
    "mlab.view(120, 115)\n",
    "f = mlab.contour_surf(X, Y, Z1, contours=50)\n",
    "mlab.title('Contour Surface Plot')\n",
    "mlab.axes(nb_labels=6)"
   ]
  },
  {
   "cell_type": "code",
   "execution_count": 10,
   "metadata": {},
   "outputs": [
    {
     "data": {
      "application/vnd.jupyter.widget-view+json": {
       "model_id": "17b10953a0b0498f93df20bec4e491c8",
       "version_major": 2,
       "version_minor": 0
      },
      "text/plain": [
       "Image(value=b'\\x89PNG\\r\\n\\x1a\\n\\x00\\x00\\x00\\rIHDR\\x00\\x00\\x01\\x90\\x00\\x00\\x01^\\x08\\x02\\x00\\x00\\x00$?\\xde_\\x00\\…"
      ]
     },
     "metadata": {},
     "output_type": "display_data"
    }
   ],
   "source": [
    "mlab.figure(bgcolor=(1,1,1), fgcolor=(0.,0.,0.))\n",
    "mlab.view(120, 115)\n",
    "f1 = mlab.mesh(X, Y, Z1)\n",
    "f2 = mlab.mesh(X, Y, Z1, representation='wireframe', color=(0, 0, 0), line_width=1)\n",
    "mlab.title('Mesh Plot')\n",
    "mlab.axes(nb_labels=6)"
   ]
  },
  {
   "cell_type": "markdown",
   "metadata": {},
   "source": [
    "### Quiver"
   ]
  },
  {
   "cell_type": "code",
   "execution_count": 11,
   "metadata": {},
   "outputs": [
    {
     "data": {
      "application/vnd.jupyter.widget-view+json": {
       "model_id": "43e94f3eadd440a7852eec9e0f46bbe1",
       "version_major": 2,
       "version_minor": 0
      },
      "text/plain": [
       "Image(value=b'\\x89PNG\\r\\n\\x1a\\n\\x00\\x00\\x00\\rIHDR\\x00\\x00\\x01\\x90\\x00\\x00\\x01^\\x08\\x02\\x00\\x00\\x00$?\\xde_\\x00\\…"
      ]
     },
     "metadata": {},
     "output_type": "display_data"
    }
   ],
   "source": [
    "x, y, z = np.mgrid[-2:3, -2:3, -2:3]\n",
    "r = np.sqrt(x ** 2 + y ** 2 + z ** 4)\n",
    "u = y * np.cos(r) / (r + 0.001)\n",
    "v = -x * np.sin(r) / (r + 0.001)\n",
    "w = z * np.sin(r) / (r + 0.001)\n",
    "    \n",
    "mlab.figure(bgcolor=(1,1,1), fgcolor=(0.,0.,0.))\n",
    "mlab.quiver3d(x, y, z, u, v, w, line_width=3, scale_factor=1, colormap='jet')\n",
    "mlab.title('Quiver Plot')\n",
    "mlab.axes(nb_labels=4)"
   ]
  },
  {
   "cell_type": "markdown",
   "metadata": {},
   "source": [
    "### Slices in 3D Volumes"
   ]
  },
  {
   "cell_type": "code",
   "execution_count": 12,
   "metadata": {},
   "outputs": [
    {
     "data": {
      "application/vnd.jupyter.widget-view+json": {
       "model_id": "36db87e6b54b45368b9a83952a759027",
       "version_major": 2,
       "version_minor": 0
      },
      "text/plain": [
       "Image(value=b'\\x89PNG\\r\\n\\x1a\\n\\x00\\x00\\x00\\rIHDR\\x00\\x00\\x01\\x90\\x00\\x00\\x01^\\x08\\x02\\x00\\x00\\x00$?\\xde_\\x00\\…"
      ]
     },
     "metadata": {},
     "output_type": "display_data"
    }
   ],
   "source": [
    "x, y, z = np.mgrid[-2:2:.2, -2:2:.25, -2:2:.16]\n",
    "v = x*np.exp(-x**2 - y**2 - z**2)\n",
    "\n",
    "mlab.figure(bgcolor=(1,1,1), fgcolor=(0.,0.,0.))\n",
    "mlab.view(120, 115)\n",
    "mlab.volume_slice(x, y, z, v, slice_index=6)\n",
    "mlab.volume_slice(x, y, z, v, plane_orientation='y_axes', slice_index=10)\n",
    "mlab.volume_slice(x, y, z, v, plane_orientation='z_axes', slice_index=8)\n",
    "mlab.title('Slice Plot')\n",
    "mlab.axes(nb_labels=4)"
   ]
  },
  {
   "cell_type": "markdown",
   "metadata": {},
   "source": [
    "There are many examples of more complex plotting in the Mayavi examples gallery: https://docs.enthought.com/mayavi/mayavi/auto/examples.html\n"
   ]
  },
  {
   "cell_type": "code",
   "execution_count": null,
   "metadata": {},
   "outputs": [],
   "source": []
  }
 ],
 "metadata": {
  "kernelspec": {
   "display_name": "Python 3",
   "language": "python",
   "name": "python3"
  },
  "language_info": {
   "codemirror_mode": {
    "name": "ipython",
    "version": 3
   },
   "file_extension": ".py",
   "mimetype": "text/x-python",
   "name": "python",
   "nbconvert_exporter": "python",
   "pygments_lexer": "ipython3",
   "version": "3.7.3"
  }
 },
 "nbformat": 4,
 "nbformat_minor": 2
}
