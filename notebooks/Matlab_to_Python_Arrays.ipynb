{
 "cells": [
  {
   "cell_type": "code",
   "execution_count": 1,
   "metadata": {},
   "outputs": [],
   "source": [
    "%matplotlib inline"
   ]
  },
  {
   "cell_type": "code",
   "execution_count": 2,
   "metadata": {},
   "outputs": [],
   "source": [
    "import numpy as np"
   ]
  },
  {
   "cell_type": "code",
   "execution_count": null,
   "metadata": {},
   "outputs": [],
   "source": []
  },
  {
   "cell_type": "markdown",
   "metadata": {},
   "source": [
    "# Transitioning form MatLab to Python - Arrays\n",
    "Transitioning from using MatLab to using Python can be daunting at first. However, many of the methods available in MatLab have rewritten in python. This notebook will explore the equivalencies between these two languages.\n",
    "\n",
    "## Contents\n",
    "- [Array Creation](#Array-Creation)\n",
    "- [Array Concatenation](#Array-Concatenation)\n",
    "- [Array Slicing](#Array-Slicing)"
   ]
  },
  {
   "cell_type": "markdown",
   "metadata": {},
   "source": [
    "### Array Creation\n",
    "\n",
    "<table>\n",
    "   <tr>\n",
    "      <th>Example</th>\n",
    "      <th>&nbsp;&nbsp;&nbsp;&nbsp;&nbsp;&nbsp;&nbsp;&nbsp;&nbsp;&nbsp;&nbsp;&nbsp;&nbsp;&nbsp;&nbsp;&nbsp;&nbsp;&nbsp;&nbsp;&nbsp;MatLab&nbsp;&nbsp;&nbsp;&nbsp;&nbsp;&nbsp;&nbsp;&nbsp;&nbsp;&nbsp;&nbsp;&nbsp;&nbsp;&nbsp;&nbsp;&nbsp;&nbsp;&nbsp;&nbsp;&nbsp;</th>\n",
    "      <th>&nbsp;&nbsp;&nbsp;&nbsp;&nbsp;&nbsp;&nbsp;&nbsp;&nbsp;&nbsp;&nbsp;&nbsp;&nbsp;&nbsp;&nbsp;&nbsp;&nbsp;&nbsp;&nbsp;&nbsp;Python&nbsp;&nbsp;&nbsp;&nbsp;&nbsp;&nbsp;&nbsp;&nbsp;&nbsp;&nbsp;&nbsp;&nbsp;&nbsp;&nbsp;&nbsp;&nbsp;&nbsp;&nbsp;&nbsp;&nbsp;</th>\n",
    "      <th>&nbsp;&nbsp;&nbsp;&nbsp;&nbsp;&nbsp;&nbsp;&nbsp;&nbsp;&nbsp;&nbsp;&nbsp;&nbsp;&nbsp;&nbsp;&nbsp;&nbsp;&nbsp;&nbsp;&nbsp;Output&nbsp;&nbsp;&nbsp;&nbsp;&nbsp;&nbsp;&nbsp;&nbsp;&nbsp;&nbsp;&nbsp;&nbsp;&nbsp;&nbsp;&nbsp;&nbsp;&nbsp;&nbsp;&nbsp;&nbsp;</th>\n",
    "   </tr>\n",
    "   <tr>\n",
    "      <td>1</td>\n",
    "      <td>a = [1, 2, 3, 4]</td>\n",
    "      <td>b = np.array([1,2,3,4])</td>\n",
    "      <td>[1 2 3 4]</td>\n",
    "   </tr>\n",
    "   <tr>\n",
    "      <td>2</td>\n",
    "      <td>b = linspace(1, 4, 2)</td>\n",
    "      <td>b = np.linspace(1, 4, 2)</td>\n",
    "      <td>[1 4]</td>\n",
    "   </tr>\n",
    "   <tr>\n",
    "      <td>3</td>\n",
    "      <td>c = zeros(2)</td>\n",
    "      <td>c = np.zeros(2)</td>\n",
    "      <td>[0 0]</td>\n",
    "   </tr>\n",
    "   <tr>\n",
    "      <td>4</td>\n",
    "      <td>d = rand(2)</td>\n",
    "      <td>d = np.random.rand(2)</td>\n",
    "      <td>[* *]</td>\n",
    "   </tr>\n",
    "   <tr>\n",
    "      <td>5</td>\n",
    "      <td>e = eye(3)</td>\n",
    "      <td>e = np.random.rand(2)</td>\n",
    "      <td>[[1 0 0]<br>[0 1 0]<br>[0 0 1]]</td>\n",
    "   </tr>\n",
    "   <tr>\n",
    "      <td>6</td>\n",
    "      <td>f = diag([1 2 3])</td>\n",
    "      <td>f = np.diag([1, 2, 3])</td>\n",
    "      <td>[[1 0 0]<br>[0 2 0]<br>[0 0 3]]</td>\n",
    "   </tr>\n",
    "</table>"
   ]
  },
  {
   "cell_type": "code",
   "execution_count": 6,
   "metadata": {},
   "outputs": [
    {
     "name": "stdout",
     "output_type": "stream",
     "text": [
      "Example 1: [1 2 3 4]\n",
      "Example 2: [1. 4.]\n",
      "Example 3: [0. 0.]\n",
      "Example 4: [0.64483871 0.13900165]\n",
      "Example 5:\n",
      " [[1. 0. 0.]\n",
      " [0. 1. 0.]\n",
      " [0. 0. 1.]]\n",
      "Example 6:\n",
      " [[1 0 0]\n",
      " [0 2 0]\n",
      " [0 0 3]]\n"
     ]
    }
   ],
   "source": [
    "## Example 1\n",
    "a = np.array([1,2,3,4])\n",
    "print(\"Example 1:\", a)\n",
    "\n",
    "## Example 2\n",
    "b = np.linspace(1, 4, 2)\n",
    "print(\"Example 2:\", b)\n",
    "\n",
    "## Example 3\n",
    "c = np.zeros(2)\n",
    "print(\"Example 3:\", c)\n",
    "\n",
    "## Example 4\n",
    "d = np.random.rand(2)\n",
    "print(\"Example 4:\", d)\n",
    "\n",
    "## Example 5\n",
    "e = np.identity(3)\n",
    "print(\"Example 5:\\n\", e)\n",
    "\n",
    "## Example 6\n",
    "f = np.diag([1, 2, 3])\n",
    "print(\"Example 6:\\n\", f)"
   ]
  },
  {
   "cell_type": "markdown",
   "metadata": {},
   "source": [
    "### Array Concatenation\n",
    "\n",
    "Concatenation in python is similar to the `cat` method in MatLab. Note: The indexing for axes begins at 0 rather than 1.\n",
    "\n",
    "<table>\n",
    "   <tr>\n",
    "      <th>Example</th>\n",
    "      <th>&nbsp;&nbsp;&nbsp;&nbsp;&nbsp;&nbsp;&nbsp;&nbsp;&nbsp;&nbsp;&nbsp;&nbsp;&nbsp;&nbsp;&nbsp;&nbsp;&nbsp;&nbsp;&nbsp;&nbsp;MatLab&nbsp;&nbsp;&nbsp;&nbsp;&nbsp;&nbsp;&nbsp;&nbsp;&nbsp;&nbsp;&nbsp;&nbsp;&nbsp;&nbsp;&nbsp;&nbsp;&nbsp;&nbsp;&nbsp;&nbsp;</th>\n",
    "      <th>&nbsp;&nbsp;&nbsp;&nbsp;&nbsp;&nbsp;&nbsp;&nbsp;&nbsp;&nbsp;&nbsp;&nbsp;&nbsp;&nbsp;&nbsp;&nbsp;&nbsp;&nbsp;&nbsp;&nbsp;Python&nbsp;&nbsp;&nbsp;&nbsp;&nbsp;&nbsp;&nbsp;&nbsp;&nbsp;&nbsp;&nbsp;&nbsp;&nbsp;&nbsp;&nbsp;&nbsp;&nbsp;&nbsp;&nbsp;&nbsp;</th>\n",
    "      <th>&nbsp;&nbsp;&nbsp;&nbsp;&nbsp;&nbsp;&nbsp;&nbsp;&nbsp;&nbsp;&nbsp;&nbsp;&nbsp;&nbsp;&nbsp;&nbsp;&nbsp;&nbsp;&nbsp;&nbsp;Output&nbsp;&nbsp;&nbsp;&nbsp;&nbsp;&nbsp;&nbsp;&nbsp;&nbsp;&nbsp;&nbsp;&nbsp;&nbsp;&nbsp;&nbsp;&nbsp;&nbsp;&nbsp;&nbsp;&nbsp;</th>\n",
    "   </tr>\n",
    "   <tr>\n",
    "      <td>1</td>\n",
    "      <td>a1 = ones(3)<br>a2 = zeros(3)<br>a = cat(1, a1, a2)</td>\n",
    "      <td>a1 = np.ones((3, 3))<br>a2 = np.zeros((3, 3))<br>a = np.concatenate((a1, a2), axis=0)</td>\n",
    "      <td>[[1 1 1]<br>\n",
    " [1 1 1]<br>\n",
    " [1 1 1]<br>\n",
    " [0 0 0]<br>\n",
    " [0 0 0]<br>\n",
    " [0 0 0]]</td>\n",
    "   </tr>\n",
    "    <tr>\n",
    "      <td>2</td>\n",
    "      <td>b1 = ones(3)<br>b2 = zeros(3)<br>b = cat(2, b1, b2)</td>\n",
    "      <td>b1 = np.ones((3, 3))<br>b2 = np.zeros((3, 3))<br>b = np.concatenate((b1, b2), axis=1)</td>\n",
    "      <td> [[1 1 1 0 0 0]<br>\n",
    " [1 1 1 0 0 0]<br>\n",
    " [1 1 1 0 0 0]]</td>\n",
    "   </tr>\n",
    "</table>"
   ]
  },
  {
   "cell_type": "code",
   "execution_count": 7,
   "metadata": {},
   "outputs": [
    {
     "name": "stdout",
     "output_type": "stream",
     "text": [
      "Example 1:\n",
      " [[1. 1. 1.]\n",
      " [1. 1. 1.]\n",
      " [1. 1. 1.]\n",
      " [0. 0. 0.]\n",
      " [0. 0. 0.]\n",
      " [0. 0. 0.]]\n",
      "Example 2:\n",
      " [[1. 1. 1. 0. 0. 0.]\n",
      " [1. 1. 1. 0. 0. 0.]\n",
      " [1. 1. 1. 0. 0. 0.]]\n"
     ]
    }
   ],
   "source": [
    "## Example 1\n",
    "a1 = np.ones((3, 3))\n",
    "a2 = np.zeros((3, 3))\n",
    "a = np.concatenate((a1, a2), axis=0)\n",
    "print(\"Example 1:\\n\", a)\n",
    "\n",
    "## Example 2\n",
    "b1 = np.ones((3, 3))\n",
    "b2 = np.zeros((3, 3))\n",
    "b = np.concatenate((b1, b2), axis=1)\n",
    "print(\"Example 2:\\n\", b)"
   ]
  },
  {
   "cell_type": "markdown",
   "metadata": {},
   "source": [
    "### Array Slicing\n",
    "\n",
    "<table>\n",
    "   <tr>\n",
    "      <th>Example</th>\n",
    "      <th>&nbsp;&nbsp;&nbsp;&nbsp;&nbsp;&nbsp;&nbsp;&nbsp;&nbsp;&nbsp;&nbsp;&nbsp;&nbsp;&nbsp;&nbsp;&nbsp;&nbsp;&nbsp;&nbsp;&nbsp;MatLab&nbsp;&nbsp;&nbsp;&nbsp;&nbsp;&nbsp;&nbsp;&nbsp;&nbsp;&nbsp;&nbsp;&nbsp;&nbsp;&nbsp;&nbsp;&nbsp;&nbsp;&nbsp;&nbsp;&nbsp;</th>\n",
    "      <th>&nbsp;&nbsp;&nbsp;&nbsp;&nbsp;&nbsp;&nbsp;&nbsp;&nbsp;&nbsp;&nbsp;&nbsp;&nbsp;&nbsp;&nbsp;&nbsp;&nbsp;&nbsp;&nbsp;&nbsp;Python&nbsp;&nbsp;&nbsp;&nbsp;&nbsp;&nbsp;&nbsp;&nbsp;&nbsp;&nbsp;&nbsp;&nbsp;&nbsp;&nbsp;&nbsp;&nbsp;&nbsp;&nbsp;&nbsp;&nbsp;</th>\n",
    "      <th>&nbsp;&nbsp;&nbsp;&nbsp;&nbsp;&nbsp;&nbsp;&nbsp;&nbsp;&nbsp;&nbsp;&nbsp;&nbsp;&nbsp;&nbsp;&nbsp;&nbsp;&nbsp;&nbsp;&nbsp;Output&nbsp;&nbsp;&nbsp;&nbsp;&nbsp;&nbsp;&nbsp;&nbsp;&nbsp;&nbsp;&nbsp;&nbsp;&nbsp;&nbsp;&nbsp;&nbsp;&nbsp;&nbsp;&nbsp;&nbsp;</th>\n",
    "   </tr>\n",
    "   <tr>\n",
    "      <td>1</td>\n",
    "      <td>a1 = [16 5 9 4 2 11 7 14]<br> a = a1(1:2:end)</td>\n",
    "      <td>a1 = np.array([16 5 9 4 2 11 7 14])<br> a = a1[2:7]</td>\n",
    "      <td>[ 9  4  2 11  7]</td>\n",
    "   </tr>\n",
    "    <tr>\n",
    "      <td>2</td>\n",
    "      <td>b1 = [16 5 9 4 2 11 7 14]<br> b = b1(1:2:end)</td>\n",
    "      <td>b1 = np.array([16 5 9 4 2 11 7 14])<br> b = b1[::2]</td>\n",
    "        <td>[16  9  2  7]</td>\n",
    "   </tr>\n",
    "    <tr>\n",
    "      <td>3</td>\n",
    "      <td>c1 = [16 5 9 4 2 11 7 14]<br> c = c1(end:-1:1) </td>\n",
    "      <td>c1 = np.array([16 5 9 4 2 11 7 14])<br> c = c1[::-1]</td>\n",
    "        <td>[14  7 11  2  4  9  5 16]</td>\n",
    "   </tr>\n",
    "</table>"
   ]
  }
 ],
 "metadata": {
  "kernelspec": {
   "display_name": "Python 3",
   "language": "python",
   "name": "python3"
  },
  "language_info": {
   "codemirror_mode": {
    "name": "ipython",
    "version": 3
   },
   "file_extension": ".py",
   "mimetype": "text/x-python",
   "name": "python",
   "nbconvert_exporter": "python",
   "pygments_lexer": "ipython3",
   "version": "3.7.3"
  }
 },
 "nbformat": 4,
 "nbformat_minor": 2
}
